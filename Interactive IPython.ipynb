{
 "cells": [
  {
   "cell_type": "markdown",
   "metadata": {},
   "source": [
    "IPython was thought as an interactive scientific programming environment. It comes with a number of numerical and scientific computing libraries that include \n",
    "\n",
    "* NumPy\n",
    "* SciPy\n",
    "* Matplotlib\n",
    "* Pandas\n",
    "* NetworkX\n",
    "* Python Image Library (PIL)\n",
    "* Cython\n",
    "\n",
    "There are all-in-one python installation built around ipython. The one we suggest using is [Anaconda](http://www.continuum.io/). Any help on IPython can be found at [IPython official website](http://\n",
    "ipython.org/documentation.html). Development version is found on the github repo [IPython](https://github.com/ipython/ipython.git)."
   ]
  },
  {
   "cell_type": "markdown",
   "metadata": {},
   "source": [
    "In the `ipython` interpreter, to access help concerning a given name in python it is enough to type `name?` or `name??` depending on whether we're looking for an exact name or a broader search. The standard python primitive is `help`. \n",
    "\n",
    "`ipython` is a layer wrapping the standard `python` interpreter ; it comes with a number of extra command called *magical commands*. Magical commands of `ipython` start with a `%`. This is optional for the majority of magical commands. Among the most common ones one can find `pwd`, `ls` or `cd` ; which behave as you'd expect. We'll be going through a number of them in this first lecture. "
   ]
  },
  {
   "cell_type": "markdown",
   "metadata": {},
   "source": [
    "# Interactive Work with IPython\n",
    "\n",
    "Working with `ipython` means interacting with the environment it provides on the fly.\n",
    "        "
   ]
  },
  {
   "cell_type": "markdown",
   "metadata": {
    "collapsed": true
   },
   "source": [
    "### IPython shell-like commands\n",
    "\n",
    "There are standard shell commands that are replicated within `ipython`. We've already seen `pwd`, `ls` and `cd`. To see into how it is used we're going to go through an example you can find in Cyrille Rossant's *Learn IPython for Interactive Computing and Data Visualization*.\n",
    "\n",
    "We're going to download a zip file containing a BSD-licensed graph corresponding to friendship relationships in a facebook community. "
   ]
  },
  {
   "cell_type": "code",
   "execution_count": 5,
   "metadata": {
    "collapsed": true
   },
   "outputs": [],
   "source": [
    "import urllib, zipfile\n",
    "\n",
    "url = \"http://ipython.rossant.net/\"\n",
    "filename = \"facebook.zip\"\n",
    "downloaded = urllib.request.urlopen(url + filename)  # load zipfile at url"
   ]
  },
  {
   "cell_type": "markdown",
   "metadata": {},
   "source": [
    "We're storing the loaded url on the file system. "
   ]
  },
  {
   "cell_type": "code",
   "execution_count": 6,
   "metadata": {},
   "outputs": [
    {
     "name": "stdout",
     "output_type": "stream",
     "text": [
      "/home/bashar/Dropbox/AutoFormation/Python environment/data\n"
     ]
    }
   ],
   "source": [
    "folder = \"data\"\n",
    "%mkdir $folder  # standard magic to interact with unix shell\n",
    "%cd $folder"
   ]
  },
  {
   "cell_type": "markdown",
   "metadata": {},
   "source": [
    "Here we save the zip file (a binary file) in the path directory with name `filename`."
   ]
  },
  {
   "cell_type": "code",
   "execution_count": 7,
   "metadata": {
    "collapsed": true
   },
   "outputs": [],
   "source": [
    "with open(filename, \"wb\") as f:\n",
    "    f.write(downloaded.read())"
   ]
  },
  {
   "cell_type": "markdown",
   "metadata": {},
   "source": [
    "Preivous bloc is equivalent to "
   ]
  },
  {
   "cell_type": "raw",
   "metadata": {},
   "source": [
    "f = open(filename, \"wb\")\n",
    "f.write(downloaded.read())\n",
    "f.close()"
   ]
  },
  {
   "cell_type": "markdown",
   "metadata": {},
   "source": [
    "Now one can extract whole file into the `data` directory."
   ]
  },
  {
   "cell_type": "code",
   "execution_count": 8,
   "metadata": {
    "collapsed": true
   },
   "outputs": [],
   "source": [
    "with zipfile.ZipFile(filename) as zip_f:\n",
    "    zip_f.extractall(\".\")"
   ]
  },
  {
   "cell_type": "markdown",
   "metadata": {},
   "source": [
    "We now have a decompressed file in the `data` directory. We can check its content from the notebook cells."
   ]
  },
  {
   "cell_type": "code",
   "execution_count": 9,
   "metadata": {},
   "outputs": [
    {
     "name": "stdout",
     "output_type": "stream",
     "text": [
      "\u001b[0m\u001b[01;34mfacebook\u001b[0m/  \u001b[01;31mfacebook.zip\u001b[0m\r\n"
     ]
    }
   ],
   "source": [
    "ls"
   ]
  },
  {
   "cell_type": "code",
   "execution_count": 10,
   "metadata": {},
   "outputs": [
    {
     "name": "stdout",
     "output_type": "stream",
     "text": [
      "/home/bashar/Dropbox/AutoFormation/Python environment/data/facebook\n"
     ]
    }
   ],
   "source": [
    "cd facebook/"
   ]
  },
  {
   "cell_type": "code",
   "execution_count": 11,
   "metadata": {},
   "outputs": [
    {
     "name": "stdout",
     "output_type": "stream",
     "text": [
      "0.circles    1684.circles  3437.circles  3980.circles  686.circles\r\n",
      "0.edges      1684.edges    3437.edges    3980.edges    686.edges\r\n",
      "107.circles  1912.circles  348.circles   414.circles   698.circles\r\n",
      "107.edges    1912.edges    348.edges     414.edges     698.edges\r\n"
     ]
    }
   ],
   "source": [
    "ls"
   ]
  },
  {
   "cell_type": "markdown",
   "metadata": {},
   "source": [
    "A number corresponds to an individual. Its `.edges` file contains edges linking friends of the individual as `node node` lines. The `.circles` contains manually created friends' lists containing circles of friends having common features."
   ]
  },
  {
   "cell_type": "markdown",
   "metadata": {},
   "source": [
    "Being within the `facebook` directory we can create a bookmark enabling us to simply acces the folder through a shortcut name."
   ]
  },
  {
   "cell_type": "code",
   "execution_count": 12,
   "metadata": {
    "collapsed": true
   },
   "outputs": [],
   "source": [
    "%bookmark fbdata"
   ]
  },
  {
   "cell_type": "markdown",
   "metadata": {},
   "source": [
    "`cd fbdata` now enables us to get into the previous `facebook` directory from any other path. "
   ]
  },
  {
   "cell_type": "markdown",
   "metadata": {},
   "source": [
    "###  Unix Shell commands from within IPython"
   ]
  },
  {
   "cell_type": "markdown",
   "metadata": {
    "collapsed": true
   },
   "source": [
    "Uptill now we've mainly used replicates of shell commands available within ipython. One can in fact use any shell command from within ipython using the `!` prefixe"
   ]
  },
  {
   "cell_type": "code",
   "execution_count": 1,
   "metadata": {},
   "outputs": [
    {
     "name": "stdout",
     "output_type": "stream",
     "text": [
      "(bookmark:fbdata) -> /home/bashar/Dropbox/AutoFormation/Python environment/data/facebook\n",
      "/home/bashar/Dropbox/AutoFormation/Python environment/data/facebook\n"
     ]
    }
   ],
   "source": [
    "cd fbdata"
   ]
  },
  {
   "cell_type": "code",
   "execution_count": 8,
   "metadata": {
    "collapsed": true
   },
   "outputs": [],
   "source": [
    "files = !ls -S | grep edges"
   ]
  },
  {
   "cell_type": "code",
   "execution_count": 9,
   "metadata": {},
   "outputs": [
    {
     "data": {
      "text/plain": [
       "['1912.edges',\n",
       " '107.edges',\n",
       " '1684.edges',\n",
       " '3437.edges',\n",
       " '348.edges',\n",
       " '0.edges',\n",
       " '414.edges',\n",
       " '686.edges',\n",
       " '698.edges',\n",
       " '3980.edges']"
      ]
     },
     "execution_count": 9,
     "metadata": {},
     "output_type": "execute_result"
    }
   ],
   "source": [
    "files"
   ]
  },
  {
   "cell_type": "markdown",
   "metadata": {},
   "source": [
    "To use values of python variables one can use the $ keyword for single variables or enclose any python expression in `{ }`."
   ]
  },
  {
   "cell_type": "code",
   "execution_count": 10,
   "metadata": {},
   "outputs": [
    {
     "name": "stdout",
     "output_type": "stream",
     "text": [
      "2849 3021\r\n",
      "2694 3096\r\n",
      "2818 2725\r\n",
      "2951 3285\r\n",
      "3082 2832\r\n"
     ]
    }
   ],
   "source": [
    "!head -n5 {files[2]}"
   ]
  },
  {
   "cell_type": "markdown",
   "metadata": {},
   "source": [
    "When having to use many times the same command, one can store it through an alias."
   ]
  },
  {
   "cell_type": "code",
   "execution_count": 11,
   "metadata": {
    "collapsed": true
   },
   "outputs": [],
   "source": [
    "%alias sortGrep ls -l -S | grep %s"
   ]
  },
  {
   "cell_type": "code",
   "execution_count": 12,
   "metadata": {},
   "outputs": [
    {
     "name": "stdout",
     "output_type": "stream",
     "text": [
      "-rw-rw-r-- 1 bashar bashar   5716 janv.  3 18:02 1912.circles\r\n",
      "-rw-rw-r-- 1 bashar bashar   4022 janv.  3 18:02 1684.circles\r\n",
      "-rw-rw-r-- 1 bashar bashar   2510 janv.  3 18:02 107.circles\r\n",
      "-rw-rw-r-- 1 bashar bashar   2382 janv.  3 18:02 348.circles\r\n",
      "-rw-rw-r-- 1 bashar bashar   2056 janv.  3 18:02 686.circles\r\n",
      "-rw-rw-r-- 1 bashar bashar   1400 janv.  3 18:02 0.circles\r\n",
      "-rw-rw-r-- 1 bashar bashar   1238 janv.  3 18:02 3437.circles\r\n",
      "-rw-rw-r-- 1 bashar bashar    768 janv.  3 18:02 414.circles\r\n",
      "-rw-rw-r-- 1 bashar bashar    447 janv.  3 18:02 698.circles\r\n",
      "-rw-rw-r-- 1 bashar bashar    432 janv.  3 18:02 3980.circles\r\n"
     ]
    }
   ],
   "source": [
    "sortGrep circles "
   ]
  },
  {
   "cell_type": "markdown",
   "metadata": {},
   "source": [
    "To store an alias, on usese the `%store` magic. To recover it `%store -r`."
   ]
  },
  {
   "cell_type": "markdown",
   "metadata": {},
   "source": [
    "### Navigating Through History"
   ]
  },
  {
   "cell_type": "markdown",
   "metadata": {},
   "source": [
    "The history magic is simply `%history` or `%hist`. "
   ]
  },
  {
   "cell_type": "code",
   "execution_count": 14,
   "metadata": {},
   "outputs": [
    {
     "name": "stdout",
     "output_type": "stream",
     "text": [
      "cd fbdata\n",
      "files = !ls -l -S | grep edges\n",
      "files\n",
      "files = !ls -l | grep edges\n",
      "files\n",
      "files = !ls | grep edges\n",
      "files\n",
      "files = !ls -S | grep edges\n",
      "files\n",
      "!head -n5 {files[2]}\n",
      "%alias sortGrep ls -l -S | grep %s\n",
      "sortGrep circles\n",
      "%hist 2-4\n",
      "%hist\n"
     ]
    }
   ],
   "source": [
    "%hist"
   ]
  },
  {
   "cell_type": "code",
   "execution_count": 15,
   "metadata": {},
   "outputs": [
    {
     "name": "stdout",
     "output_type": "stream",
     "text": [
      "files = !ls -l -S | grep edges\n",
      "files\n",
      "files = !ls -l | grep edges\n",
      "files\n",
      "files = !ls | grep edges\n",
      "files\n",
      "files = !ls -S | grep edges\n"
     ]
    }
   ],
   "source": [
    "%hist 2-8"
   ]
  },
  {
   "cell_type": "markdown",
   "metadata": {},
   "source": [
    "One can also look into the history of previous sessions. Using `~1` for previous session or the corresponding number of previous session."
   ]
  },
  {
   "cell_type": "code",
   "execution_count": 18,
   "metadata": {},
   "outputs": [
    {
     "name": "stdout",
     "output_type": "stream",
     "text": [
      "import urllib, zipfile\n",
      "url = \"http://ipython.rossant.net/\"\n",
      "filename = \"facebook.zip\"\n",
      "downloaded = urllib.urlopen(url + filename)\n",
      "import urllib3, zipfile\n",
      "url = \"http://ipython.rossant.net/\"\n",
      "filename = \"facebook.zip\"\n",
      "downloaded = urllib3.urlopen(url + filename)\n",
      "help(urllib3)\n",
      "import urllib3, zipfile\n",
      "url = \"http://ipython.rossant.net/\"\n",
      "filename = \"facebook.zip\"\n",
      "downloaded = urllib3.open(url + filename)\n",
      "import urllib, zipfile\n",
      "url = \"http://ipython.rossant.net/\"\n",
      "filename = \"facebook.zip\"\n",
      "downloaded = urllib.request.urlopen(url + filename)\n",
      "folder = \"data\"\n",
      "%mkdir $folder  # standard magic to interact with unix shell\n",
      "%cd $folder\n",
      "with open(filename, \"wb\") as f:\n",
      "    f.write(downloaded.read())\n",
      "with zipfile.ZipFile(filename) as zip_f:\n",
      "    zip_f.extractall(\".\")\n",
      "ls\n",
      "cd facebook/\n"
     ]
    }
   ],
   "source": [
    "%history ~1/0-10"
   ]
  },
  {
   "cell_type": "markdown",
   "metadata": {},
   "source": [
    "The history magic comes with a number of useful options among which :\n",
    "* -o : displays output in addition to input\n",
    "* -n : gives the line numbers\n",
    "* -f : saves history to a file\n",
    "* -p : displays the prompt `>>>`"
   ]
  },
  {
   "cell_type": "code",
   "execution_count": 24,
   "metadata": {},
   "outputs": [
    {
     "name": "stdout",
     "output_type": "stream",
     "text": [
      "   2: >>> files = !ls -l -S | grep edges\n",
      "   3: >>> files\n",
      "['-rw-rw-r-- 1 bashar bashar 600274 janv.  3 18:02 1912.edges',\n",
      " '-rw-rw-r-- 1 bashar bashar 523802 janv.  3 18:02 107.edges',\n",
      " '-rw-rw-r-- 1 bashar bashar 280354 janv.  3 18:02 1684.edges',\n",
      " '-rw-rw-r-- 1 bashar bashar  96188 janv.  3 18:02 3437.edges',\n",
      " '-rw-rw-r-- 1 bashar bashar  51066 janv.  3 18:02 348.edges',\n",
      " '-rw-rw-r-- 1 bashar bashar  37228 janv.  3 18:02 0.edges',\n",
      " '-rw-rw-r-- 1 bashar bashar  27082 janv.  3 18:02 414.edges',\n",
      " '-rw-rw-r-- 1 bashar bashar  26496 janv.  3 18:02 686.edges',\n",
      " '-rw-rw-r-- 1 bashar bashar   4320 janv.  3 18:02 698.edges',\n",
      " '-rw-rw-r-- 1 bashar bashar   2914 janv.  3 18:02 3980.edges']\n"
     ]
    }
   ],
   "source": [
    "%hist -onp 2-3"
   ]
  },
  {
   "cell_type": "markdown",
   "metadata": {},
   "source": [
    "The magic command `%store` we used previously does in fact store the value of any python variable. It can be used to store history entries and outputs. The option `-d` deletes a variable and the `-r` restores a stored variable within a future session."
   ]
  },
  {
   "cell_type": "markdown",
   "metadata": {},
   "source": [
    "### Executing code within IPython\n",
    "\n",
    "One can paste anything copied in the clipboard using the `%paste` magic in the ipython interpretor (it doesn't make sense in the jupyter notebook environment). This `%paste` magic desindents and deletes `>` or `+` characters that might be included in the copied code. This make easier copying diff results and email replies.  \n",
    "\n",
    "In the jupyter notebook environment, the `%run` command is the most useful one. Notice that unless you explicitely use the option `-i` the `%run` command executes its argument in an empty namespace not seeing the interactive session. The variables defined within the executred script are only imported in the interactive session after the end of the execution."
   ]
  },
  {
   "cell_type": "code",
   "execution_count": 34,
   "metadata": {},
   "outputs": [
    {
     "data": {
      "text/plain": [
       "'/home/bashar/Dropbox/AutoFormation/Python environment/data'"
      ]
     },
     "execution_count": 34,
     "metadata": {},
     "output_type": "execute_result"
    }
   ],
   "source": [
    "pwd"
   ]
  },
  {
   "cell_type": "code",
   "execution_count": 39,
   "metadata": {
    "collapsed": true
   },
   "outputs": [],
   "source": [
    "%run egos.py facebook"
   ]
  },
  {
   "cell_type": "code",
   "execution_count": 40,
   "metadata": {},
   "outputs": [
    {
     "data": {
      "text/plain": [
       "[0, 107, 348, 414, 686, 698, 1684, 1912, 3437, 3980]"
      ]
     },
     "execution_count": 40,
     "metadata": {},
     "output_type": "execute_result"
    }
   ],
   "source": [
    "ids"
   ]
  },
  {
   "cell_type": "markdown",
   "metadata": {},
   "source": [
    "When working from within the `ipython` interpreter the `%edit` magic opens the default system editor either using\n",
    "\n",
    "* script name \n",
    "* given string containing code\n",
    "* range of line numbers in the same fashion as the `%history` magic\n",
    "* any python object, in that case ipython opens the file where the object was defined.\n",
    "\n",
    "within jupyter notebook this magic command does only create a temporary file containing expected code if it doesn't correspond to a script. It is not seem to be well adapted to jupyter notebooks and is in fact not very well implemented for its uses."
   ]
  },
  {
   "cell_type": "markdown",
   "metadata": {},
   "source": [
    "### Code Introspection\n",
    "\n",
    "`?` or `??` gives details on any python object you're using. One can acces more specifics of inner defined functions either using:\n",
    "* `%psource` : function's source\n",
    "* `%pfile` : where it is defined\n",
    "* `%pdoc` : printing the docstring\n",
    "* `%pdef` : definition header. \n",
    "\n",
    "Notice that the `%pfile` function is given a python source file, it shall print it with syntax highlighting within the interpretor."
   ]
  },
  {
   "cell_type": "code",
   "execution_count": 65,
   "metadata": {
    "collapsed": true
   },
   "outputs": [],
   "source": [
    "%pfile egos.py"
   ]
  },
  {
   "cell_type": "markdown",
   "metadata": {},
   "source": [
    "### Debugger"
   ]
  },
  {
   "cell_type": "markdown",
   "metadata": {},
   "source": [
    "IPython puts an extra layer on the python standard debugger. The magic `%debug` launches the debugger at an exception point. To run the debugger at any exception point within a session one can set the `%pdb` option in a cell or launch the ipython interpreter with the `--pdb` option.\n",
    "\n",
    "To run a script using the debugger one can use the command `%run -d`. It can take in the extra option `-b21` to stop the execution at line 29 of code rather than stopping at first line of file. \n",
    "\n",
    "Here are the main commands to interact with debugger:\n",
    "\n",
    "* `u/d` : going up and down the call stack\n",
    "* `s`   : step into next statement\n",
    "* `n`   : continue execution until next line in the current function\n",
    "* `r`   : continue execution until the current function returns\n",
    "* `c`   : continue execution until next break point or exception\n",
    "* `p`   : evaluate and print any expression\n",
    "* `a`   : obtain the arguments of the current functions\n",
    "* `!`   : as a prefix it executes any python code within the debugger."
   ]
  },
  {
   "cell_type": "markdown",
   "metadata": {},
   "source": [
    "### Benchmarking and Profiling"
   ]
  },
  {
   "cell_type": "markdown",
   "metadata": {},
   "source": [
    "The simplest ipython available functions to time a program are `%timeit` and `%time`. The first runs a number of tests controled by the option `-r` for the number of loops and `-n` for the number of executions at each loop. To estimate the execution time of a script one uses `%run -t`. \n",
    "\n",
    "The call `%run -p` or the equivalent `%prun` command allow a more refined profiling of code. Notice though that `profile` and `line_profiler` python modules would give much more insignt into function profiling. "
   ]
  },
  {
   "cell_type": "code",
   "execution_count": null,
   "metadata": {
    "collapsed": true
   },
   "outputs": [],
   "source": []
  }
 ],
 "metadata": {
  "kernelspec": {
   "display_name": "Python 3",
   "language": "python",
   "name": "python3"
  },
  "language_info": {
   "codemirror_mode": {
    "name": "ipython",
    "version": 3
   },
   "file_extension": ".py",
   "mimetype": "text/x-python",
   "name": "python",
   "nbconvert_exporter": "python",
   "pygments_lexer": "ipython3",
   "version": "3.5.2"
  }
 },
 "nbformat": 4,
 "nbformat_minor": 2
}
